{
 "cells": [
  {
   "cell_type": "markdown",
   "source": [
    "# A replicate study on using supervised machine learning to detect credit card fraudulent transactions."
   ],
   "metadata": {
    "collapsed": false
   },
   "id": "153257082e48fd12"
  },
  {
   "cell_type": "markdown",
   "source": [
    "This is a walk through on the following research paper analyzing various machinelearning algorithms, such as Logistic Regression (LR), Random Forest (RF), Naïve Bayes (NB) and Multilayer Perceptron (MLP) in order to determine which algorithm is most suitable for credit card fraud detection. \n",
    "\n",
    "By replicating the steps from the study, it sought to demonstrate my relevant skills and knowledge on solving the problem. The dataset is enclosed as 'creditcard.csv', which is a [Kaggle dataset](https://www.kaggle.com/datasets/mlg-ulb/creditcardfraud) containing 284,807 European credit card transactions with 492 fraudulent transactions that occurred over two days in September 2013. \n",
    "\n",
    "Varmedja, Dejan, et al. \"Credit card fraud detection-machine learning methods.\" 2019 18th International Symposium INFOTEH-JAHORINA (INFOTEH). IEEE, 2019."
   ],
   "metadata": {
    "collapsed": false
   },
   "id": "b2023c13f46f409b"
  },
  {
   "cell_type": "markdown",
   "source": [
    "## Exploratory Data Analysis (EDA)"
   ],
   "metadata": {
    "collapsed": false
   },
   "id": "84c285be8c00017b"
  },
  {
   "cell_type": "markdown",
   "source": [
    "Dataset Context¶\n",
    "1. The data contains 284,807 European credit card transactions with 492 fraudulent transactions that occurred over two days in September 2013. (Obtained from [kaggle](https://www.kaggle.com/datasets/mlg-ulb/creditcardfraud))\n",
    "2. Everything except the time and amount has been reduced by a Principle Component Analysis (PCA) for privacy concerns. Features V1, V2, ... V28 are the principal components obtained with PCA, the only features which have not been transformed with PCA are 'Time' and 'Amount'.\n",
    "3. In order to implement a PCA transformation, features need to be previously scaled. So features V1, V2, ... V28 have been scaled already.\n",
    "4. Feature 'Time' contains the seconds elapsed between each transaction and the first transaction in the dataset.\n",
    "5. The feature 'Amount' is the transaction Amount, this feature can be used for example-dependant cost-senstive learning.\n",
    "6. Feature 'Class' is the response variable and it takes value 1 in case of fraud and 0 otherwise.\n",
    "7. The dataset is highly unbalanced, the positive class (frauds) account for 0.172% of all transactions. Given the class imbalance ratio, Area Under the Precision-Recall Curve (AUPRC) are recommend to measure the accuracy. Confusion matrix accuracy is not meaningful for unbalanced classification due to this Accuracy Paradox"
   ],
   "metadata": {
    "collapsed": false
   },
   "id": "81160f8ebd114f4e"
  },
  {
   "cell_type": "code",
   "execution_count": 1,
   "id": "512508d0-fb17-4cdd-8887-66f63779b93d",
   "metadata": {
    "ExecuteTime": {
     "end_time": "2024-11-08T15:05:54.791320Z",
     "start_time": "2024-11-08T15:05:54.789742Z"
    }
   },
   "outputs": [],
   "source": [
    "import pandas as pd\n",
    "import matplotlib.pyplot as plt"
   ]
  },
  {
   "cell_type": "code",
   "execution_count": 2,
   "id": "d169b012-72d3-4f8d-a655-31a4f3f8927a",
   "metadata": {
    "ExecuteTime": {
     "end_time": "2024-11-08T15:05:55.788310Z",
     "start_time": "2024-11-08T15:05:54.791870Z"
    }
   },
   "outputs": [],
   "source": [
    "df = pd.read_csv('creditcard.csv')"
   ]
  },
  {
   "cell_type": "code",
   "execution_count": 3,
   "id": "0fdb7ca1-86cf-4b84-a87e-17afe808c1a6",
   "metadata": {
    "ExecuteTime": {
     "end_time": "2024-11-08T15:05:55.807270Z",
     "start_time": "2024-11-08T15:05:55.791817Z"
    }
   },
   "outputs": [
    {
     "data": {
      "text/plain": "   Time        V1        V2        V3        V4        V5        V6        V7  \\\n0   0.0 -1.359807 -0.072781  2.536347  1.378155 -0.338321  0.462388  0.239599   \n1   0.0  1.191857  0.266151  0.166480  0.448154  0.060018 -0.082361 -0.078803   \n2   1.0 -1.358354 -1.340163  1.773209  0.379780 -0.503198  1.800499  0.791461   \n3   1.0 -0.966272 -0.185226  1.792993 -0.863291 -0.010309  1.247203  0.237609   \n4   2.0 -1.158233  0.877737  1.548718  0.403034 -0.407193  0.095921  0.592941   \n\n         V8        V9  ...       V21       V22       V23       V24       V25  \\\n0  0.098698  0.363787  ... -0.018307  0.277838 -0.110474  0.066928  0.128539   \n1  0.085102 -0.255425  ... -0.225775 -0.638672  0.101288 -0.339846  0.167170   \n2  0.247676 -1.514654  ...  0.247998  0.771679  0.909412 -0.689281 -0.327642   \n3  0.377436 -1.387024  ... -0.108300  0.005274 -0.190321 -1.175575  0.647376   \n4 -0.270533  0.817739  ... -0.009431  0.798278 -0.137458  0.141267 -0.206010   \n\n        V26       V27       V28  Amount  Class  \n0 -0.189115  0.133558 -0.021053  149.62      0  \n1  0.125895 -0.008983  0.014724    2.69      0  \n2 -0.139097 -0.055353 -0.059752  378.66      0  \n3 -0.221929  0.062723  0.061458  123.50      0  \n4  0.502292  0.219422  0.215153   69.99      0  \n\n[5 rows x 31 columns]",
      "text/html": "<div>\n<style scoped>\n    .dataframe tbody tr th:only-of-type {\n        vertical-align: middle;\n    }\n\n    .dataframe tbody tr th {\n        vertical-align: top;\n    }\n\n    .dataframe thead th {\n        text-align: right;\n    }\n</style>\n<table border=\"1\" class=\"dataframe\">\n  <thead>\n    <tr style=\"text-align: right;\">\n      <th></th>\n      <th>Time</th>\n      <th>V1</th>\n      <th>V2</th>\n      <th>V3</th>\n      <th>V4</th>\n      <th>V5</th>\n      <th>V6</th>\n      <th>V7</th>\n      <th>V8</th>\n      <th>V9</th>\n      <th>...</th>\n      <th>V21</th>\n      <th>V22</th>\n      <th>V23</th>\n      <th>V24</th>\n      <th>V25</th>\n      <th>V26</th>\n      <th>V27</th>\n      <th>V28</th>\n      <th>Amount</th>\n      <th>Class</th>\n    </tr>\n  </thead>\n  <tbody>\n    <tr>\n      <th>0</th>\n      <td>0.0</td>\n      <td>-1.359807</td>\n      <td>-0.072781</td>\n      <td>2.536347</td>\n      <td>1.378155</td>\n      <td>-0.338321</td>\n      <td>0.462388</td>\n      <td>0.239599</td>\n      <td>0.098698</td>\n      <td>0.363787</td>\n      <td>...</td>\n      <td>-0.018307</td>\n      <td>0.277838</td>\n      <td>-0.110474</td>\n      <td>0.066928</td>\n      <td>0.128539</td>\n      <td>-0.189115</td>\n      <td>0.133558</td>\n      <td>-0.021053</td>\n      <td>149.62</td>\n      <td>0</td>\n    </tr>\n    <tr>\n      <th>1</th>\n      <td>0.0</td>\n      <td>1.191857</td>\n      <td>0.266151</td>\n      <td>0.166480</td>\n      <td>0.448154</td>\n      <td>0.060018</td>\n      <td>-0.082361</td>\n      <td>-0.078803</td>\n      <td>0.085102</td>\n      <td>-0.255425</td>\n      <td>...</td>\n      <td>-0.225775</td>\n      <td>-0.638672</td>\n      <td>0.101288</td>\n      <td>-0.339846</td>\n      <td>0.167170</td>\n      <td>0.125895</td>\n      <td>-0.008983</td>\n      <td>0.014724</td>\n      <td>2.69</td>\n      <td>0</td>\n    </tr>\n    <tr>\n      <th>2</th>\n      <td>1.0</td>\n      <td>-1.358354</td>\n      <td>-1.340163</td>\n      <td>1.773209</td>\n      <td>0.379780</td>\n      <td>-0.503198</td>\n      <td>1.800499</td>\n      <td>0.791461</td>\n      <td>0.247676</td>\n      <td>-1.514654</td>\n      <td>...</td>\n      <td>0.247998</td>\n      <td>0.771679</td>\n      <td>0.909412</td>\n      <td>-0.689281</td>\n      <td>-0.327642</td>\n      <td>-0.139097</td>\n      <td>-0.055353</td>\n      <td>-0.059752</td>\n      <td>378.66</td>\n      <td>0</td>\n    </tr>\n    <tr>\n      <th>3</th>\n      <td>1.0</td>\n      <td>-0.966272</td>\n      <td>-0.185226</td>\n      <td>1.792993</td>\n      <td>-0.863291</td>\n      <td>-0.010309</td>\n      <td>1.247203</td>\n      <td>0.237609</td>\n      <td>0.377436</td>\n      <td>-1.387024</td>\n      <td>...</td>\n      <td>-0.108300</td>\n      <td>0.005274</td>\n      <td>-0.190321</td>\n      <td>-1.175575</td>\n      <td>0.647376</td>\n      <td>-0.221929</td>\n      <td>0.062723</td>\n      <td>0.061458</td>\n      <td>123.50</td>\n      <td>0</td>\n    </tr>\n    <tr>\n      <th>4</th>\n      <td>2.0</td>\n      <td>-1.158233</td>\n      <td>0.877737</td>\n      <td>1.548718</td>\n      <td>0.403034</td>\n      <td>-0.407193</td>\n      <td>0.095921</td>\n      <td>0.592941</td>\n      <td>-0.270533</td>\n      <td>0.817739</td>\n      <td>...</td>\n      <td>-0.009431</td>\n      <td>0.798278</td>\n      <td>-0.137458</td>\n      <td>0.141267</td>\n      <td>-0.206010</td>\n      <td>0.502292</td>\n      <td>0.219422</td>\n      <td>0.215153</td>\n      <td>69.99</td>\n      <td>0</td>\n    </tr>\n  </tbody>\n</table>\n<p>5 rows × 31 columns</p>\n</div>"
     },
     "execution_count": 3,
     "metadata": {},
     "output_type": "execute_result"
    }
   ],
   "source": [
    "df.head()"
   ]
  },
  {
   "cell_type": "code",
   "execution_count": 4,
   "id": "9cf40ae5-cf3d-4c41-bd13-82a846bc0868",
   "metadata": {
    "ExecuteTime": {
     "end_time": "2024-11-08T15:05:55.810386Z",
     "start_time": "2024-11-08T15:05:55.807969Z"
    }
   },
   "outputs": [
    {
     "data": {
      "text/plain": "(284807, 31)"
     },
     "execution_count": 4,
     "metadata": {},
     "output_type": "execute_result"
    }
   ],
   "source": [
    "df.shape"
   ]
  },
  {
   "cell_type": "markdown",
   "source": [
    "### Distribution of Class, Time and Amount"
   ],
   "metadata": {
    "collapsed": false
   },
   "id": "5c20040b53a49f43"
  },
  {
   "cell_type": "code",
   "outputs": [
    {
     "name": "stdout",
     "output_type": "stream",
     "text": [
      "The proportion of fraudulent transactions: 0.172749%\n"
     ]
    }
   ],
   "source": [
    "from collections import Counter\n",
    "counter = Counter(df['Class'])\n",
    "print(f'The proportion of fraudulent transactions: {100*counter[1]/len(df):3f}%')"
   ],
   "metadata": {
    "collapsed": false,
    "ExecuteTime": {
     "end_time": "2024-11-08T15:05:55.836030Z",
     "start_time": "2024-11-08T15:05:55.810878Z"
    }
   },
   "id": "9f84116c135294aa",
   "execution_count": 5
  },
  {
   "cell_type": "code",
   "outputs": [],
   "source": [
    "# Time is originally stored as the unit of seconds, therefore divide 60*60 to transform into hour\n",
    "df['Time'] = df['Time']/(60*60)"
   ],
   "metadata": {
    "ExecuteTime": {
     "end_time": "2024-11-08T15:05:55.842280Z",
     "start_time": "2024-11-08T15:05:55.837229Z"
    }
   },
   "id": "90139216-5228-4bf4-b424-b09fa4356acf",
   "execution_count": 6
  },
  {
   "cell_type": "code",
   "outputs": [
    {
     "data": {
      "text/plain": "<Figure size 640x480 with 1 Axes>",
      "image/png": "[encoded data removed]"
     },
     "metadata": {},
     "output_type": "display_data"
    }
   ],
   "source": [
    "plt.hist(df['Time'], bins=100);"
   ],
   "metadata": {
    "ExecuteTime": {
     "end_time": "2024-11-08T15:05:56.003792Z",
     "start_time": "2024-11-08T15:05:55.843105Z"
    }
   },
   "id": "c7ae2726-040e-4016-9a23-3d0de988b653",
   "execution_count": 7
  },
  {
   "cell_type": "code",
   "outputs": [
    {
     "data": {
      "text/plain": "count    284807.000000\nmean         88.349619\nstd         250.120109\nmin           0.000000\n25%           5.600000\n50%          22.000000\n75%          77.165000\nmax       25691.160000\nName: Amount, dtype: float64"
     },
     "execution_count": 8,
     "metadata": {},
     "output_type": "execute_result"
    }
   ],
   "source": [
    "df['Amount'].describe()"
   ],
   "metadata": {
    "ExecuteTime": {
     "end_time": "2024-11-08T15:05:56.019126Z",
     "start_time": "2024-11-08T15:05:56.005554Z"
    }
   },
   "id": "54a09919-224a-4eae-9a09-b3b9c0627478",
   "execution_count": 8
  },
  {
   "cell_type": "code",
   "outputs": [
    {
     "data": {
      "text/plain": "<Figure size 640x480 with 1 Axes>",
      "image/png": "[encoded data removed]"
     },
     "metadata": {},
     "output_type": "display_data"
    }
   ],
   "source": [
    "plt.hist(df['Amount'], bins=50);"
   ],
   "metadata": {
    "ExecuteTime": {
     "end_time": "2024-11-08T15:05:56.116969Z",
     "start_time": "2024-11-08T15:05:56.022245Z"
    }
   },
   "id": "fe6f3a8e-4bff-4769-b808-450846bfcdaa",
   "execution_count": 9
  },
  {
   "cell_type": "markdown",
   "source": [
    "Notes: \n",
    "1. The dataset is highly unbalanced, the positive class (frauds) account for 0.172% of all transactions. Given the class imbalance ratio, Area Under the Precision-Recall Curve (AUPRC) are recommend to measure the accuracy. Confusion matrix accuracy is not meaningful for unbalanced classification due to this Accuracy Paradox.\n",
    "2. Transaction time concentrates in daytime.\n",
    "3. Amount is heavily skewed."
   ],
   "metadata": {
    "collapsed": false
   },
   "id": "13c8c75b856b1c3d"
  },
  {
   "cell_type": "markdown",
   "source": [
    "## Feature selection"
   ],
   "metadata": {
    "collapsed": false
   },
   "id": "a37b87bdf462a9ca"
  },
  {
   "cell_type": "markdown",
   "source": [
    "Here, I followed the author's method to deploy the [FeatureSelector](https://github.com/WillKoehrsen/feature-selector) class created by WillKoehrsen to select features to be removed from the  dataset based on the following 5 methods:\n",
    "1. Find columns with a missing fraction greater than a specified threshold\n",
    "2. Find features with only a single unique value\n",
    "3. Find collinear features as identified by a correlation coefficient greater than a specified value\n",
    "4. Find features with 0.0 importance from a gradient boosting machine\n",
    "5. Find features that do not contribute to a specified cumulative feature importance from the gradient boosting machine"
   ],
   "metadata": {
    "collapsed": false
   },
   "id": "7516c58eb066ff5e"
  },
  {
   "cell_type": "code",
   "outputs": [],
   "source": [
    "from feature_selector.feature_selector import FeatureSelector"
   ],
   "metadata": {
    "collapsed": false,
    "ExecuteTime": {
     "end_time": "2024-11-08T15:05:56.382869Z",
     "start_time": "2024-11-08T15:05:56.118660Z"
    }
   },
   "id": "51e6a047b567c13e",
   "execution_count": 10
  },
  {
   "cell_type": "code",
   "execution_count": 11,
   "id": "f52c15ca-e5aa-49cc-aebc-a47a09379f56",
   "metadata": {
    "ExecuteTime": {
     "end_time": "2024-11-08T15:05:56.428939Z",
     "start_time": "2024-11-08T15:05:56.383577Z"
    }
   },
   "outputs": [],
   "source": [
    "X = df.drop('Class', axis=1)\n",
    "y = df['Class']"
   ]
  },
  {
   "cell_type": "code",
   "outputs": [],
   "source": [
    "# Create the instance\n",
    "fs = FeatureSelector(data = X, labels = y)"
   ],
   "metadata": {
    "collapsed": false,
    "ExecuteTime": {
     "end_time": "2024-11-08T15:05:56.431440Z",
     "start_time": "2024-11-08T15:05:56.429751Z"
    }
   },
   "id": "cd0865c1408a068d",
   "execution_count": 12
  },
  {
   "cell_type": "markdown",
   "source": [
    "1. Missing Values\n",
    "The first feature selection method is straightforward: find any columns with a missing fraction greater than a specified threshold. For this example we will use a threhold of 0.6 which corresponds to finding features with more than 60% missing values. (This method does not one-hot encode the features first)."
   ],
   "metadata": {
    "collapsed": false
   },
   "id": "53a386108ccc0db2"
  },
  {
   "cell_type": "code",
   "outputs": [
    {
     "name": "stdout",
     "output_type": "stream",
     "text": [
      "0 features with greater than 0.60 missing values.\n"
     ]
    }
   ],
   "source": [
    "fs.identify_missing(missing_threshold=0.6)"
   ],
   "metadata": {
    "collapsed": false,
    "ExecuteTime": {
     "end_time": "2024-11-08T15:05:56.444793Z",
     "start_time": "2024-11-08T15:05:56.432060Z"
    }
   },
   "id": "8c4f57be3244e3f6",
   "execution_count": 13
  },
  {
   "cell_type": "markdown",
   "source": [
    "2. Single Unique Value\n",
    "The next method is straightforward: find any features that have only a single unique value. (This does not one-hot encode the features)."
   ],
   "metadata": {
    "collapsed": false
   },
   "id": "73f598b380a512d"
  },
  {
   "cell_type": "code",
   "outputs": [
    {
     "name": "stdout",
     "output_type": "stream",
     "text": [
      "0 features with a single unique value.\n"
     ]
    }
   ],
   "source": [
    "fs.identify_single_unique()"
   ],
   "metadata": {
    "collapsed": false,
    "ExecuteTime": {
     "end_time": "2024-11-08T15:05:56.640922Z",
     "start_time": "2024-11-08T15:05:56.445511Z"
    }
   },
   "id": "80e16ab948f6c3eb",
   "execution_count": 14
  },
  {
   "cell_type": "markdown",
   "source": [
    "3. Collinear (highly correlated) Features\n",
    "This method finds pairs of collinear features based on the Pearson correlation coefficient. For each pair above the specified threshold (in terms of absolute value), it identifies one of the variables to be removed. We need to pass in a correlation_threshold.\n",
    "\n",
    "This method is based on code found at https://chrisalbon.com/machine_learning/feature_selection/drop_highly_correlated_features/\n",
    "\n",
    "For each pair, the feature that will be removed is the one that comes last in terms of the column ordering in the dataframe. (This method does not one-hot encode the data beforehand unless one_hot=True. Therefore correlations are only calculated between numeric columns)"
   ],
   "metadata": {
    "collapsed": false
   },
   "id": "fcef546630ff1fec"
  },
  {
   "cell_type": "code",
   "outputs": [
    {
     "name": "stdout",
     "output_type": "stream",
     "text": [
      "0 features with a correlation magnitude greater than 0.97.\n"
     ]
    }
   ],
   "source": [
    "fs.identify_collinear(correlation_threshold=0.975)"
   ],
   "metadata": {
    "collapsed": false,
    "ExecuteTime": {
     "end_time": "2024-11-08T15:05:57.001213Z",
     "start_time": "2024-11-08T15:05:56.641635Z"
    }
   },
   "id": "aae5e638411a68e4",
   "execution_count": 15
  },
  {
   "cell_type": "markdown",
   "source": [
    "4. Zero Importance Features\n",
    "This method relies on a machine learning model to identify features to remove. It therefore requires a supervised learning problem with labels. The method works by finding feature importances using a gradient boosting machine implemented in the LightGBM library.\n",
    "\n",
    "To reduce variance in the calculated feature importances, the model is trained a default 10 times. The model is also by default trained with early stopping using a validation set (15% of the training data) to identify the optimal number of estimators to train. The following parameters can be passed to the identify_zero_importance method:\n",
    "\n",
    "task: either classification or regression. The metric and labels must match with the task\n",
    "eval_metric: the metric used for early stopping (for example auc for classification or l2 for regression). To see a list of available metrics, refer to the LightGBM docs\n",
    "n_iterations: number of training runs. The feature importances are averaged over the training runs (default = 10)\n",
    "early_stopping: whether to use early stopping when training the model (default = True). Early stopping stops training estimators (decision trees) when the performance on a validation set no longer decreases for a specified number of estimators (100 by default in this implementation). Early stopping is a form of regularization used to prevent overfitting to training data\n",
    "The data is first one-hot encoded for use in the model. This means that some of the zero importance features may be created from one-hot encoding. To view the one-hot encoded columns, we can access the one_hot_features of the FeatureSelector.\n",
    "\n",
    "Note of caution: in contrast to the other methods, the feature imporances from a model are non-deterministic (have a little randomness). The results of running this method can change each time it is run."
   ],
   "metadata": {
    "collapsed": false
   },
   "id": "51b49b1de1030656"
  },
  {
   "cell_type": "code",
   "outputs": [
    {
     "name": "stdout",
     "output_type": "stream",
     "text": [
      "Training Gradient Boosting Model\n",
      "[LightGBM] [Info] Number of positive: 394, number of negative: 227451\n",
      "[LightGBM] [Info] Auto-choosing row-wise multi-threading, the overhead of testing was 0.003324 seconds.\n",
      "You can set `force_row_wise=true` to remove the overhead.\n",
      "And if memory is not enough, you can set `force_col_wise=true`.\n",
      "[LightGBM] [Info] Total Bins 7650\n",
      "[LightGBM] [Info] Number of data points in the train set: 227845, number of used features: 30\n",
      "[LightGBM] [Info] [binary:BoostFromScore]: pavg=0.001729 -> initscore=-6.358339\n",
      "[LightGBM] [Info] Start training from score -6.358339\n",
      "Training until validation scores don't improve for 100 rounds\n",
      "Early stopping, best iteration is:\n",
      "[1]\tvalid_0's auc: 0.922285\tvalid_0's binary_logloss: 0.00824923\n",
      "[LightGBM] [Info] Number of positive: 394, number of negative: 227451\n",
      "[LightGBM] [Info] Auto-choosing row-wise multi-threading, the overhead of testing was 0.002129 seconds.\n",
      "You can set `force_row_wise=true` to remove the overhead.\n",
      "And if memory is not enough, you can set `force_col_wise=true`.\n",
      "[LightGBM] [Info] Total Bins 7650\n",
      "[LightGBM] [Info] Number of data points in the train set: 227845, number of used features: 30\n",
      "[LightGBM] [Info] [binary:BoostFromScore]: pavg=0.001729 -> initscore=-6.358339\n",
      "[LightGBM] [Info] Start training from score -6.358339\n",
      "Training until validation scores don't improve for 100 rounds\n",
      "Early stopping, best iteration is:\n",
      "[1]\tvalid_0's auc: 0.891494\tvalid_0's binary_logloss: 0.0063923\n",
      "[LightGBM] [Info] Number of positive: 394, number of negative: 227451\n",
      "[LightGBM] [Info] Auto-choosing row-wise multi-threading, the overhead of testing was 0.010189 seconds.\n",
      "You can set `force_row_wise=true` to remove the overhead.\n",
      "And if memory is not enough, you can set `force_col_wise=true`.\n",
      "[LightGBM] [Info] Total Bins 7650\n",
      "[LightGBM] [Info] Number of data points in the train set: 227845, number of used features: 30\n",
      "[LightGBM] [Info] [binary:BoostFromScore]: pavg=0.001729 -> initscore=-6.358339\n",
      "[LightGBM] [Info] Start training from score -6.358339\n",
      "Training until validation scores don't improve for 100 rounds\n",
      "Early stopping, best iteration is:\n",
      "[1]\tvalid_0's auc: 0.95695\tvalid_0's binary_logloss: 0.00578875\n",
      "[LightGBM] [Info] Number of positive: 394, number of negative: 227451\n",
      "[LightGBM] [Info] Auto-choosing col-wise multi-threading, the overhead of testing was 0.013904 seconds.\n",
      "You can set `force_col_wise=true` to remove the overhead.\n",
      "[LightGBM] [Info] Total Bins 7650\n",
      "[LightGBM] [Info] Number of data points in the train set: 227845, number of used features: 30\n",
      "[LightGBM] [Info] [binary:BoostFromScore]: pavg=0.001729 -> initscore=-6.358339\n",
      "[LightGBM] [Info] Start training from score -6.358339\n",
      "Training until validation scores don't improve for 100 rounds\n",
      "Early stopping, best iteration is:\n",
      "[1]\tvalid_0's auc: 0.90474\tvalid_0's binary_logloss: 0.00906309\n",
      "[LightGBM] [Info] Number of positive: 394, number of negative: 227451\n",
      "[LightGBM] [Info] Auto-choosing col-wise multi-threading, the overhead of testing was 0.009981 seconds.\n",
      "You can set `force_col_wise=true` to remove the overhead.\n",
      "[LightGBM] [Info] Total Bins 7650\n",
      "[LightGBM] [Info] Number of data points in the train set: 227845, number of used features: 30\n",
      "[LightGBM] [Info] [binary:BoostFromScore]: pavg=0.001729 -> initscore=-6.358339\n",
      "[LightGBM] [Info] Start training from score -6.358339\n",
      "Training until validation scores don't improve for 100 rounds\n",
      "Early stopping, best iteration is:\n",
      "[1]\tvalid_0's auc: 0.937661\tvalid_0's binary_logloss: 0.00627381\n",
      "[LightGBM] [Info] Number of positive: 394, number of negative: 227451\n",
      "[LightGBM] [Info] Auto-choosing row-wise multi-threading, the overhead of testing was 0.003055 seconds.\n",
      "You can set `force_row_wise=true` to remove the overhead.\n",
      "And if memory is not enough, you can set `force_col_wise=true`.\n",
      "[LightGBM] [Info] Total Bins 7650\n",
      "[LightGBM] [Info] Number of data points in the train set: 227845, number of used features: 30\n",
      "[LightGBM] [Info] [binary:BoostFromScore]: pavg=0.001729 -> initscore=-6.358339\n",
      "[LightGBM] [Info] Start training from score -6.358339\n",
      "Training until validation scores don't improve for 100 rounds\n",
      "Early stopping, best iteration is:\n",
      "[1]\tvalid_0's auc: 0.870255\tvalid_0's binary_logloss: 0.00710531\n",
      "[LightGBM] [Info] Number of positive: 394, number of negative: 227451\n",
      "[LightGBM] [Info] Auto-choosing row-wise multi-threading, the overhead of testing was 0.001959 seconds.\n",
      "You can set `force_row_wise=true` to remove the overhead.\n",
      "And if memory is not enough, you can set `force_col_wise=true`.\n",
      "[LightGBM] [Info] Total Bins 7650\n",
      "[LightGBM] [Info] Number of data points in the train set: 227845, number of used features: 30\n",
      "[LightGBM] [Info] [binary:BoostFromScore]: pavg=0.001729 -> initscore=-6.358339\n",
      "[LightGBM] [Info] Start training from score -6.358339\n",
      "Training until validation scores don't improve for 100 rounds\n",
      "Early stopping, best iteration is:\n",
      "[53]\tvalid_0's auc: 0.919019\tvalid_0's binary_logloss: 0.00496605\n",
      "[LightGBM] [Info] Number of positive: 394, number of negative: 227451\n",
      "[LightGBM] [Info] Auto-choosing col-wise multi-threading, the overhead of testing was 0.009728 seconds.\n",
      "You can set `force_col_wise=true` to remove the overhead.\n",
      "[LightGBM] [Info] Total Bins 7650\n",
      "[LightGBM] [Info] Number of data points in the train set: 227845, number of used features: 30\n",
      "[LightGBM] [Info] [binary:BoostFromScore]: pavg=0.001729 -> initscore=-6.358339\n",
      "[LightGBM] [Info] Start training from score -6.358339\n",
      "Training until validation scores don't improve for 100 rounds\n",
      "Early stopping, best iteration is:\n",
      "[86]\tvalid_0's auc: 0.971794\tvalid_0's binary_logloss: 0.00361182\n",
      "[LightGBM] [Info] Number of positive: 394, number of negative: 227451\n",
      "[LightGBM] [Info] Auto-choosing row-wise multi-threading, the overhead of testing was 0.002464 seconds.\n",
      "You can set `force_row_wise=true` to remove the overhead.\n",
      "And if memory is not enough, you can set `force_col_wise=true`.\n",
      "[LightGBM] [Info] Total Bins 7650\n",
      "[LightGBM] [Info] Number of data points in the train set: 227845, number of used features: 30\n",
      "[LightGBM] [Info] [binary:BoostFromScore]: pavg=0.001729 -> initscore=-6.358339\n",
      "[LightGBM] [Info] Start training from score -6.358339\n",
      "Training until validation scores don't improve for 100 rounds\n",
      "Early stopping, best iteration is:\n",
      "[1]\tvalid_0's auc: 0.957129\tvalid_0's binary_logloss: 0.00580175\n",
      "[LightGBM] [Info] Number of positive: 394, number of negative: 227451\n",
      "[LightGBM] [Info] Auto-choosing col-wise multi-threading, the overhead of testing was 0.008189 seconds.\n",
      "You can set `force_col_wise=true` to remove the overhead.\n",
      "[LightGBM] [Info] Total Bins 7650\n",
      "[LightGBM] [Info] Number of data points in the train set: 227845, number of used features: 30\n",
      "[LightGBM] [Info] [binary:BoostFromScore]: pavg=0.001729 -> initscore=-6.358339\n",
      "[LightGBM] [Info] Start training from score -6.358339\n",
      "Training until validation scores don't improve for 100 rounds\n",
      "Early stopping, best iteration is:\n",
      "[1]\tvalid_0's auc: 0.912159\tvalid_0's binary_logloss: 0.00797904\n",
      "\n",
      "0 features with zero or negative importance after one-hot encoding.\n"
     ]
    }
   ],
   "source": [
    "fs.identify_zero_importance(task = 'classification', eval_metric = 'auc', \n",
    "                            n_iterations = 10, early_stopping = True)"
   ],
   "metadata": {
    "collapsed": false,
    "ExecuteTime": {
     "end_time": "2024-11-08T15:06:15.016247Z",
     "start_time": "2024-11-08T15:05:57.007487Z"
    }
   },
   "id": "f5382cbf76cb0b2b",
   "execution_count": 16
  },
  {
   "cell_type": "markdown",
   "source": [
    "5. Low Importance Features\n",
    "This method builds off the feature importances from the gradient boosting machine (identify_zero_importance must be run first) by finding the lowest importance features not needed to reach a specified cumulative total feature importance. For example, if we pass in 0.99, this will find the lowest important features that are not needed to reach 99% of the total feature importance.\n",
    "\n",
    "When using this method, we must have already run identify_zero_importance and need to pass in a cumulative_importance that accounts for that fraction of total feature importance.\n",
    "\n",
    "Note of caution: this method builds on the gradient boosting model features importances and again is non-deterministic. I advise running these two methods several times with varying parameters and testing each resulting set of features rather than picking one number and sticking to it."
   ],
   "metadata": {
    "collapsed": false
   },
   "id": "b6fd47fcf95353ba"
  },
  {
   "cell_type": "code",
   "outputs": [
    {
     "name": "stdout",
     "output_type": "stream",
     "text": [
      "29 features required for cumulative importance of 0.99 after one hot encoding.\n",
      "1 features do not contribute to cumulative importance of 0.99.\n"
     ]
    }
   ],
   "source": [
    "fs.identify_low_importance(cumulative_importance = 0.99)"
   ],
   "metadata": {
    "collapsed": false,
    "ExecuteTime": {
     "end_time": "2024-11-08T15:06:15.019476Z",
     "start_time": "2024-11-08T15:06:15.017041Z"
    }
   },
   "id": "b2a9d7b3986c5c0f",
   "execution_count": 17
  },
  {
   "cell_type": "code",
   "outputs": [
    {
     "data": {
      "text/plain": "['V2']"
     },
     "execution_count": 18,
     "metadata": {},
     "output_type": "execute_result"
    }
   ],
   "source": [
    "low_importance_features = fs.ops['low_importance']\n",
    "low_importance_features[:5]"
   ],
   "metadata": {
    "collapsed": false,
    "ExecuteTime": {
     "end_time": "2024-11-08T15:06:15.022667Z",
     "start_time": "2024-11-08T15:06:15.020297Z"
    }
   },
   "id": "3257fb858b97c0ed",
   "execution_count": 18
  },
  {
   "cell_type": "code",
   "outputs": [
    {
     "name": "stdout",
     "output_type": "stream",
     "text": [
      "['missing', 'single_unique', 'collinear', 'zero_importance', 'low_importance'] methods have been run\n",
      "\n",
      "Removed 1 features.\n"
     ]
    }
   ],
   "source": [
    "X_removed = fs.remove(methods = 'all')"
   ],
   "metadata": {
    "collapsed": false,
    "ExecuteTime": {
     "end_time": "2024-11-08T15:06:15.069040Z",
     "start_time": "2024-11-08T15:06:15.023145Z"
    }
   },
   "id": "a03d22ac3224e02",
   "execution_count": 19
  },
  {
   "cell_type": "markdown",
   "source": [
    "## Resampling with SMOTE"
   ],
   "metadata": {},
   "id": "919c137d-fdd0-465d-a5fc-ac82968c5491"
  },
  {
   "cell_type": "markdown",
   "id": "921d8cd8-c8ba-41cc-a57c-422469d9880a",
   "metadata": {},
   "source": [
    "Since we are dealing with imablanced datasets, which is very common in fraud detection task where the fraudulent cases are extremely rare (0.173% in our dataset), it is important to ensure that both training and testing sets contain a representative proportion of fraudulent cases. That allows the model to learn to recognize fraudulent patterns and evaluate its performance effectively.\n",
    "\n",
    "Therefore, here we apply stratified train-test split alongside a technique called Synthetic Minority Over-sampling Technique (SMOTE) to oversample the minority class in our dataset."
   ]
  },
  {
   "cell_type": "code",
   "outputs": [],
   "source": [
    "from sklearn.model_selection import train_test_split\n",
    "\n",
    "# Stratified split to maintain the ratio of classes in train and test sets\n",
    "X_train, X_test, y_train, y_test = train_test_split(X_removed, y, test_size=0.2, stratify=y, random_state=42)"
   ],
   "metadata": {
    "ExecuteTime": {
     "end_time": "2024-11-08T15:06:15.153987Z",
     "start_time": "2024-11-08T15:06:15.069687Z"
    }
   },
   "id": "613775d2-f4c5-48db-8459-eebc062ea215",
   "execution_count": 20
  },
  {
   "cell_type": "code",
   "outputs": [
    {
     "name": "stdout",
     "output_type": "stream",
     "text": [
      "Counter({0: 227451, 1: 227451})\n"
     ]
    }
   ],
   "source": [
    "from imblearn.over_sampling import SMOTE\n",
    "\n",
    "smote = SMOTE(random_state=42)\n",
    "X_train_resampled, y_train_resampled = smote.fit_resample(X_train, y_train)\n",
    "counter = Counter(y_train_resampled)\n",
    "print(counter)"
   ],
   "metadata": {
    "collapsed": false,
    "ExecuteTime": {
     "end_time": "2024-11-08T15:06:43.497293Z",
     "start_time": "2024-11-08T15:06:43.201304Z"
    }
   },
   "id": "5592b5746c9c9667",
   "execution_count": 22
  },
  {
   "cell_type": "markdown",
   "source": [
    "## Train the models with both original and resampled data"
   ],
   "metadata": {
    "collapsed": false
   },
   "id": "5d1e6593584a1fdf"
  },
  {
   "cell_type": "code",
   "outputs": [],
   "source": [
    "from sklearn.linear_model import LogisticRegression\n",
    "from sklearn.naive_bayes import GaussianNB\n",
    "from sklearn.ensemble import RandomForestClassifier\n",
    "from sklearn.neural_network import MLPClassifier\n",
    "from sklearn.metrics import accuracy_score, precision_score, recall_score, f1_score\n",
    "\n",
    "def evaluate_models(X_train, y_train, X_test, y_test, X_train_resampled, y_train_resampled):\n",
    "    models = {\n",
    "        \"Logistic Regression\": LogisticRegression(max_iter=1000, random_state=42),\n",
    "        \"Naive Bayes\": GaussianNB(),\n",
    "        \"Random Forest\": RandomForestClassifier(n_estimators=100, random_state=42),\n",
    "        \"ANN\": MLPClassifier(hidden_layer_sizes=(50, 30, 30, 50), max_iter=500, random_state=42)\n",
    "    }\n",
    "\n",
    "    for model_name, model in models.items():\n",
    "        print(f\"\\n{model_name} (Original Data):\")\n",
    "        model.fit(X_train, y_train)\n",
    "        y_pred = model.predict(X_test)\n",
    "        print(f'Accuracy: {accuracy_score(y_test, y_pred):.4f}')\n",
    "        print(f'Precision: {precision_score(y_test, y_pred):.4f}')\n",
    "        print(f'Recall: {recall_score(y_test, y_pred):.4f}')\n",
    "        print(f'F1 score: {f1_score(y_test, y_pred):.4f}')\n",
    "\n",
    "        print(f\"\\n{model_name} (Resampled Data):\")\n",
    "        model.fit(X_train_resampled, y_train_resampled)\n",
    "        y_pred_resampled = model.predict(X_test)\n",
    "        print(f'Accuracy: {accuracy_score(y_test, y_pred_resampled):.4f}')\n",
    "        print(f'Precision: {precision_score(y_test, y_pred_resampled):.4f}')\n",
    "        print(f'Recall: {recall_score(y_test, y_pred_resampled):.4f}')\n",
    "        print(f'F1 score: {f1_score(y_test, y_pred_resampled):.4f}')"
   ],
   "metadata": {
    "collapsed": false,
    "ExecuteTime": {
     "end_time": "2024-11-08T15:06:49.897145Z",
     "start_time": "2024-11-08T15:06:49.875837Z"
    }
   },
   "id": "8dee2d4aca99980c",
   "execution_count": 23
  },
  {
   "cell_type": "code",
   "outputs": [
    {
     "name": "stdout",
     "output_type": "stream",
     "text": [
      "\n",
      "Logistic Regression (Original Data):\n",
      "Accuracy: 0.9992\n",
      "Precision: 0.8228\n",
      "Recall: 0.6633\n",
      "F1 score: 0.7345\n",
      "\n",
      "Logistic Regression (Resampled Data):\n",
      "Accuracy: 0.9823\n",
      "Precision: 0.0827\n",
      "Recall: 0.9184\n",
      "F1 score: 0.1518\n",
      "\n",
      "Naive Bayes (Original Data):\n",
      "Accuracy: 0.9773\n",
      "Precision: 0.0609\n",
      "Recall: 0.8469\n",
      "F1 score: 0.1137\n",
      "\n",
      "Naive Bayes (Resampled Data):\n",
      "Accuracy: 0.9740\n",
      "Precision: 0.0552\n",
      "Recall: 0.8776\n",
      "F1 score: 0.1039\n",
      "\n",
      "Random Forest (Original Data):\n",
      "Accuracy: 0.9996\n",
      "Precision: 0.9412\n",
      "Recall: 0.8163\n",
      "F1 score: 0.8743\n",
      "\n",
      "Random Forest (Resampled Data):\n",
      "Accuracy: 0.9996\n",
      "Precision: 0.8842\n",
      "Recall: 0.8571\n",
      "F1 score: 0.8705\n",
      "\n",
      "ANN (Original Data):\n",
      "Accuracy: 0.9994\n",
      "Precision: 0.8667\n",
      "Recall: 0.7959\n",
      "F1 score: 0.8298\n",
      "\n",
      "ANN (Resampled Data):\n",
      "Accuracy: 0.9989\n",
      "Precision: 0.6434\n",
      "Recall: 0.8469\n",
      "F1 score: 0.7313\n"
     ]
    }
   ],
   "source": [
    "evaluate_models(X_train, y_train, X_test, y_test, X_train_resampled, y_train_resampled)"
   ],
   "metadata": {
    "collapsed": false,
    "ExecuteTime": {
     "end_time": "2024-11-08T15:15:24.343621Z",
     "start_time": "2024-11-08T15:06:54.047979Z"
    }
   },
   "id": "8a4559f5a502b4c3",
   "execution_count": 24
  },
  {
   "cell_type": "markdown",
   "id": "d6934883-d5fc-4176-80ee-b59b75426b60",
   "metadata": {},
   "source": [
    "To evaluate the performance of different ML models in fraud detection, it involves understanding the trade-offs between different performance metrics and how they relate to your specific problem, especially in the context of imbalanced data.\n",
    "In the context of fraud detection, recall is often more critical than precision because missing a fraudulent transaction (false negative) can be more costly than investigating a legitimate transaction (false positive). Therefore, if the the cost of false positives (investigating non-fraudulent transactions) is manageable, the model trained with resampled data with higher recall might be preferred to ensure that most fraudulent transactions are detected."
   ]
  },
  {
   "cell_type": "code",
   "outputs": [],
   "source": [
    "import matplotlib.pyplot as plt\n",
    "\n",
    "# Storing metrics in a dictionary\n",
    "results = {\n",
    "    'Random Forest (Resampled)': {'accuracy': 0.9996, 'precision': 0.8842, 'recall': 0.8571, 'f1_score': 0.8705},\n",
    "    'Random Forest (Original)': {'accuracy': 0.9996, 'precision': 0.9412, 'recall': 0.8163, 'f1_score': 0.8743},\n",
    "    'ANN (Original)': {'accuracy': 0.9994, 'precision': 0.8667, 'recall': 0.7959, 'f1_score': 0.8298},\n",
    "    'ANN (Resampled)': {'accuracy': 0.9989, 'precision': 0.6434, 'recall': 0.8469, 'f1_score': 0.7313},\n",
    "    'Naive Bayes (Resampled)': {'accuracy': 0.9740, 'precision': 0.0552, 'recall': 0.8776, 'f1_score': 0.1039},\n",
    "    'Naive Bayes (Original)': {'accuracy': 0.9773, 'precision': 0.0609, 'recall': 0.8469, 'f1_score': 0.1137},\n",
    "    'Logistic Regression (Resampled)': {'accuracy': 0.9823, 'precision': 0.0827, 'recall': 0.9184, 'f1_score': 0.1518},\n",
    "    'Logistic Regression (Original)': {'accuracy': 0.9992, 'precision': 0.8228, 'recall': 0.6633, 'f1_score': 0.7345}\n",
    "}"
   ],
   "metadata": {
    "collapsed": false,
    "ExecuteTime": {
     "end_time": "2024-11-08T15:25:21.450120Z",
     "start_time": "2024-11-08T15:25:21.434153Z"
    }
   },
   "id": "4654cb7b3281b3d3",
   "execution_count": 25
  },
  {
   "cell_type": "code",
   "outputs": [
    {
     "data": {
      "text/plain": "<Figure size 2000x500 with 4 Axes>",
      "image/png": "[encoded data removed]"
     },
     "metadata": {},
     "output_type": "display_data"
    }
   ],
   "source": [
    "def plot_metrics(results):\n",
    "    metrics = ['accuracy', 'precision', 'recall', 'f1_score']\n",
    "    num_models = len(results)\n",
    "    model_names = list(results.keys())\n",
    "    \n",
    "    # Set up subplots for each metric\n",
    "    fig, axes = plt.subplots(1, len(metrics), figsize=(20, 5), sharey=True)\n",
    "    \n",
    "    for i, metric in enumerate(metrics):\n",
    "        values = [results[model][metric] for model in model_names]\n",
    "        axes[i].barh(model_names, values, color='skyblue')\n",
    "        axes[i].set_title(metric.capitalize())\n",
    "        axes[i].set_xlim(0, 1)\n",
    "        for j, v in enumerate(values):\n",
    "            axes[i].text(v + 0.01, j, f\"{v:.4f}\", va='center')  # Add text labels\n",
    "    \n",
    "    plt.tight_layout()\n",
    "    plt.show()\n",
    "\n",
    "# Call the function to plot the results\n",
    "plot_metrics(results)"
   ],
   "metadata": {
    "collapsed": false,
    "ExecuteTime": {
     "end_time": "2024-11-08T15:25:22.954142Z",
     "start_time": "2024-11-08T15:25:22.439275Z"
    }
   },
   "id": "c8446ad0ce1bbbef",
   "execution_count": 26
  },
  {
   "cell_type": "markdown",
   "source": [
    "## Conclusion"
   ],
   "metadata": {},
   "id": "d0cb084e-1126-458b-82cb-1740d3b94302"
  },
  {
   "cell_type": "markdown",
   "source": [],
   "metadata": {
    "collapsed": false
   },
   "id": "1970cb1d695fafec"
  },
  {
   "cell_type": "markdown",
   "source": [
    "As a fast growing menace in finance industry, credit card fraud can be detected more effectively by adopting machine learning. In the application supervised learning algorithm in fraud detection, it is important to take the highly skewed datasets into consideration. The presence of significantly more genuine transactions than fraudulent ones (class imbalance) poses a challenge. Specialized techniques like resampling or using class weights are essential to balance the training process.\n",
    "\n",
    "The reuslts show that \n",
    "1. Random Forest trained on resampled data (SMOTE) appears to be the best-performing model for this task, achieving a strong balance between precision, recall, and F1 score without needing resampling. This makes it a practical choice for fraud detection, as it minimizes false positives (high precision) while maintaining a good recall.\n",
    "2. ANN with original data also performs well and could be a suitable alternative, although it may require further tuning (e.g., different architectures, class weights) to achieve similar robustness as Random Forest.\n",
    "3. istic Regression could be considered for simpler, smaller datasets but struggles with imbalanced data when resampling is applied.\n",
    "4. Naive Bayes is not suitable for this type of fraud detection task due to its low precision, which leads to too many false positives.\n",
    "\n",
    "In summary, Random Forest is likely the best option in this case among these models for detecting fraudulent transactions in an imbalanced dataset, offering strong performance without needing resampling."
   ],
   "metadata": {},
   "id": "1f7e747e-d7ad-47c1-8f50-a9d1e5b2e384"
  }
 ],
 "metadata": {
  "kernelspec": {
   "display_name": "Python 3 (ipykernel)",
   "language": "python",
   "name": "python3"
  },
  "language_info": {
   "codemirror_mode": {
    "name": "ipython",
    "version": 3
   },
   "file_extension": ".py",
   "mimetype": "text/x-python",
   "name": "python",
   "nbconvert_exporter": "python",
   "pygments_lexer": "ipython3",
   "version": "3.11.7"
  }
 },
 "nbformat": 4,
 "nbformat_minor": 5
}
