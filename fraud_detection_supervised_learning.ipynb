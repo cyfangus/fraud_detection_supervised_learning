{
 "cells": [
  {
   "cell_type": "code",
   "execution_count": 1,
   "id": "512508d0-fb17-4cdd-8887-66f63779b93d",
   "metadata": {},
   "outputs": [],
   "source": [
    "import numpy as np\n",
    "import pandas as pd\n",
    "import matplotlib.pyplot as plt"
   ]
  },
  {
   "cell_type": "markdown",
   "id": "80f8fde8-b175-4f6f-a190-435152a03041",
   "metadata": {},
   "source": [
    "### Dataset Context¶\n",
    "1. The data contains 284,807 European credit card transactions with 492 fraudulent transactions that occurred over two days in September 2013.\n",
    "2. Everything except the time and amount has been reduced by a Principle Component Analysis (PCA) for privacy concerns. Features V1, V2, ... V28 are the principal components obtained with PCA, the only features which have not been transformed with PCA are 'Time' and 'Amount'.\n",
    "3. In order to implement a PCA transformation, features need to be previously scaled. So features V1, V2, ... V28 have been scaled already.\n",
    "4. Feature 'Time' contains the seconds elapsed between each transaction and the first transaction in the dataset.\n",
    "5. The feature 'Amount' is the transaction Amount, this feature can be used for example-dependant cost-senstive learning.\n",
    "6. Feature 'Class' is the response variable and it takes value 1 in case of fraud and 0 otherwise.\n",
    "7. The dataset is highly unbalanced, the positive class (frauds) account for 0.172% of all transactions. Given the class imbalance ratio, Area Under the Precision-Recall Curve (AUPRC) are recommend to measure the accuracy. Confusion matrix accuracy is not meaningful for unbalanced classification due to this Accuracy Paradox"
   ]
  },
  {
   "cell_type": "code",
   "execution_count": 3,
   "id": "d169b012-72d3-4f8d-a655-31a4f3f8927a",
   "metadata": {},
   "outputs": [],
   "source": [
    "df = pd.read_csv('creditcard.csv')"
   ]
  },
  {
   "cell_type": "code",
   "execution_count": 4,
   "id": "0fdb7ca1-86cf-4b84-a87e-17afe808c1a6",
   "metadata": {},
   "outputs": [
    {
     "data": {
      "text/html": [
       "<div>\n",
       "<style scoped>\n",
       "    .dataframe tbody tr th:only-of-type {\n",
       "        vertical-align: middle;\n",
       "    }\n",
       "\n",
       "    .dataframe tbody tr th {\n",
       "        vertical-align: top;\n",
       "    }\n",
       "\n",
       "    .dataframe thead th {\n",
       "        text-align: right;\n",
       "    }\n",
       "</style>\n",
       "<table border=\"1\" class=\"dataframe\">\n",
       "  <thead>\n",
       "    <tr style=\"text-align: right;\">\n",
       "      <th></th>\n",
       "      <th>Time</th>\n",
       "      <th>V1</th>\n",
       "      <th>V2</th>\n",
       "      <th>V3</th>\n",
       "      <th>V4</th>\n",
       "      <th>V5</th>\n",
       "      <th>V6</th>\n",
       "      <th>V7</th>\n",
       "      <th>V8</th>\n",
       "      <th>V9</th>\n",
       "      <th>...</th>\n",
       "      <th>V21</th>\n",
       "      <th>V22</th>\n",
       "      <th>V23</th>\n",
       "      <th>V24</th>\n",
       "      <th>V25</th>\n",
       "      <th>V26</th>\n",
       "      <th>V27</th>\n",
       "      <th>V28</th>\n",
       "      <th>Amount</th>\n",
       "      <th>Class</th>\n",
       "    </tr>\n",
       "  </thead>\n",
       "  <tbody>\n",
       "    <tr>\n",
       "      <th>0</th>\n",
       "      <td>0.0</td>\n",
       "      <td>-1.359807</td>\n",
       "      <td>-0.072781</td>\n",
       "      <td>2.536347</td>\n",
       "      <td>1.378155</td>\n",
       "      <td>-0.338321</td>\n",
       "      <td>0.462388</td>\n",
       "      <td>0.239599</td>\n",
       "      <td>0.098698</td>\n",
       "      <td>0.363787</td>\n",
       "      <td>...</td>\n",
       "      <td>-0.018307</td>\n",
       "      <td>0.277838</td>\n",
       "      <td>-0.110474</td>\n",
       "      <td>0.066928</td>\n",
       "      <td>0.128539</td>\n",
       "      <td>-0.189115</td>\n",
       "      <td>0.133558</td>\n",
       "      <td>-0.021053</td>\n",
       "      <td>149.62</td>\n",
       "      <td>0</td>\n",
       "    </tr>\n",
       "    <tr>\n",
       "      <th>1</th>\n",
       "      <td>0.0</td>\n",
       "      <td>1.191857</td>\n",
       "      <td>0.266151</td>\n",
       "      <td>0.166480</td>\n",
       "      <td>0.448154</td>\n",
       "      <td>0.060018</td>\n",
       "      <td>-0.082361</td>\n",
       "      <td>-0.078803</td>\n",
       "      <td>0.085102</td>\n",
       "      <td>-0.255425</td>\n",
       "      <td>...</td>\n",
       "      <td>-0.225775</td>\n",
       "      <td>-0.638672</td>\n",
       "      <td>0.101288</td>\n",
       "      <td>-0.339846</td>\n",
       "      <td>0.167170</td>\n",
       "      <td>0.125895</td>\n",
       "      <td>-0.008983</td>\n",
       "      <td>0.014724</td>\n",
       "      <td>2.69</td>\n",
       "      <td>0</td>\n",
       "    </tr>\n",
       "    <tr>\n",
       "      <th>2</th>\n",
       "      <td>1.0</td>\n",
       "      <td>-1.358354</td>\n",
       "      <td>-1.340163</td>\n",
       "      <td>1.773209</td>\n",
       "      <td>0.379780</td>\n",
       "      <td>-0.503198</td>\n",
       "      <td>1.800499</td>\n",
       "      <td>0.791461</td>\n",
       "      <td>0.247676</td>\n",
       "      <td>-1.514654</td>\n",
       "      <td>...</td>\n",
       "      <td>0.247998</td>\n",
       "      <td>0.771679</td>\n",
       "      <td>0.909412</td>\n",
       "      <td>-0.689281</td>\n",
       "      <td>-0.327642</td>\n",
       "      <td>-0.139097</td>\n",
       "      <td>-0.055353</td>\n",
       "      <td>-0.059752</td>\n",
       "      <td>378.66</td>\n",
       "      <td>0</td>\n",
       "    </tr>\n",
       "    <tr>\n",
       "      <th>3</th>\n",
       "      <td>1.0</td>\n",
       "      <td>-0.966272</td>\n",
       "      <td>-0.185226</td>\n",
       "      <td>1.792993</td>\n",
       "      <td>-0.863291</td>\n",
       "      <td>-0.010309</td>\n",
       "      <td>1.247203</td>\n",
       "      <td>0.237609</td>\n",
       "      <td>0.377436</td>\n",
       "      <td>-1.387024</td>\n",
       "      <td>...</td>\n",
       "      <td>-0.108300</td>\n",
       "      <td>0.005274</td>\n",
       "      <td>-0.190321</td>\n",
       "      <td>-1.175575</td>\n",
       "      <td>0.647376</td>\n",
       "      <td>-0.221929</td>\n",
       "      <td>0.062723</td>\n",
       "      <td>0.061458</td>\n",
       "      <td>123.50</td>\n",
       "      <td>0</td>\n",
       "    </tr>\n",
       "    <tr>\n",
       "      <th>4</th>\n",
       "      <td>2.0</td>\n",
       "      <td>-1.158233</td>\n",
       "      <td>0.877737</td>\n",
       "      <td>1.548718</td>\n",
       "      <td>0.403034</td>\n",
       "      <td>-0.407193</td>\n",
       "      <td>0.095921</td>\n",
       "      <td>0.592941</td>\n",
       "      <td>-0.270533</td>\n",
       "      <td>0.817739</td>\n",
       "      <td>...</td>\n",
       "      <td>-0.009431</td>\n",
       "      <td>0.798278</td>\n",
       "      <td>-0.137458</td>\n",
       "      <td>0.141267</td>\n",
       "      <td>-0.206010</td>\n",
       "      <td>0.502292</td>\n",
       "      <td>0.219422</td>\n",
       "      <td>0.215153</td>\n",
       "      <td>69.99</td>\n",
       "      <td>0</td>\n",
       "    </tr>\n",
       "  </tbody>\n",
       "</table>\n",
       "<p>5 rows × 31 columns</p>\n",
       "</div>"
      ],
      "text/plain": [
       "   Time        V1        V2        V3        V4        V5        V6        V7  \\\n",
       "0   0.0 -1.359807 -0.072781  2.536347  1.378155 -0.338321  0.462388  0.239599   \n",
       "1   0.0  1.191857  0.266151  0.166480  0.448154  0.060018 -0.082361 -0.078803   \n",
       "2   1.0 -1.358354 -1.340163  1.773209  0.379780 -0.503198  1.800499  0.791461   \n",
       "3   1.0 -0.966272 -0.185226  1.792993 -0.863291 -0.010309  1.247203  0.237609   \n",
       "4   2.0 -1.158233  0.877737  1.548718  0.403034 -0.407193  0.095921  0.592941   \n",
       "\n",
       "         V8        V9  ...       V21       V22       V23       V24       V25  \\\n",
       "0  0.098698  0.363787  ... -0.018307  0.277838 -0.110474  0.066928  0.128539   \n",
       "1  0.085102 -0.255425  ... -0.225775 -0.638672  0.101288 -0.339846  0.167170   \n",
       "2  0.247676 -1.514654  ...  0.247998  0.771679  0.909412 -0.689281 -0.327642   \n",
       "3  0.377436 -1.387024  ... -0.108300  0.005274 -0.190321 -1.175575  0.647376   \n",
       "4 -0.270533  0.817739  ... -0.009431  0.798278 -0.137458  0.141267 -0.206010   \n",
       "\n",
       "        V26       V27       V28  Amount  Class  \n",
       "0 -0.189115  0.133558 -0.021053  149.62      0  \n",
       "1  0.125895 -0.008983  0.014724    2.69      0  \n",
       "2 -0.139097 -0.055353 -0.059752  378.66      0  \n",
       "3 -0.221929  0.062723  0.061458  123.50      0  \n",
       "4  0.502292  0.219422  0.215153   69.99      0  \n",
       "\n",
       "[5 rows x 31 columns]"
      ]
     },
     "execution_count": 4,
     "metadata": {},
     "output_type": "execute_result"
    }
   ],
   "source": [
    "df.head()"
   ]
  },
  {
   "cell_type": "markdown",
   "id": "1d511708-733f-4fe1-8b2f-5cfb1bedc23a",
   "metadata": {},
   "source": [
    "EDA"
   ]
  },
  {
   "cell_type": "code",
   "execution_count": 6,
   "id": "9cf40ae5-cf3d-4c41-bd13-82a846bc0868",
   "metadata": {},
   "outputs": [
    {
     "data": {
      "text/plain": [
       "(284807, 31)"
      ]
     },
     "execution_count": 6,
     "metadata": {},
     "output_type": "execute_result"
    }
   ],
   "source": [
    "df.shape"
   ]
  },
  {
   "cell_type": "code",
   "execution_count": 7,
   "id": "d2774ec5-bbee-408e-a005-b1855996eaf3",
   "metadata": {},
   "outputs": [
    {
     "name": "stdout",
     "output_type": "stream",
     "text": [
      "The proportion of fraudulent transactions: 0.173%\n"
     ]
    }
   ],
   "source": [
    "print(f'The proportion of fraudulent transactions: {100*df[\"Class\"].value_counts()[1]/len(df):.3f}%')"
   ]
  },
  {
   "cell_type": "markdown",
   "id": "40e6fb65-6126-4df0-8224-66109bfe2fe9",
   "metadata": {},
   "source": [
    "### Distribution of Time and Amount"
   ]
  },
  {
   "cell_type": "code",
   "execution_count": 9,
   "id": "90139216-5228-4bf4-b424-b09fa4356acf",
   "metadata": {},
   "outputs": [],
   "source": [
    "# Time is originally stored as the unit of seconds, therefore divide 60*60 to transform into hour\n",
    "df['Time'] = df['Time']/(60*60)"
   ]
  },
  {
   "cell_type": "code",
   "execution_count": 10,
   "id": "c7ae2726-040e-4016-9a23-3d0de988b653",
   "metadata": {},
   "outputs": [
    {
     "data": {
      "image/png": "[encoded data removed]",
      "text/plain": [
       "<Figure size 640x480 with 1 Axes>"
      ]
     },
     "metadata": {},
     "output_type": "display_data"
    }
   ],
   "source": [
    "plt.hist(df['Time'], bins=100);"
   ]
  },
  {
   "cell_type": "code",
   "execution_count": 11,
   "id": "fe6f3a8e-4bff-4769-b808-450846bfcdaa",
   "metadata": {},
   "outputs": [
    {
     "data": {
      "image/png": "[encoded data removed]",
      "text/plain": [
       "<Figure size 640x480 with 1 Axes>"
      ]
     },
     "metadata": {},
     "output_type": "display_data"
    }
   ],
   "source": [
    "plt.hist(df['Amount'], bins=100);"
   ]
  },
  {
   "cell_type": "markdown",
   "id": "28f3b36b-587e-44d9-81bc-a1d3d30cb822",
   "metadata": {},
   "source": [
    "- Summary\n",
    "1. Transaction time concentrates in daytime.\n",
    "2. Amount is heavily skewed."
   ]
  },
  {
   "cell_type": "code",
   "execution_count": 13,
   "id": "54a09919-224a-4eae-9a09-b3b9c0627478",
   "metadata": {},
   "outputs": [
    {
     "data": {
      "text/plain": [
       "count    284807.000000\n",
       "mean         88.349619\n",
       "std         250.120109\n",
       "min           0.000000\n",
       "25%           5.600000\n",
       "50%          22.000000\n",
       "75%          77.165000\n",
       "max       25691.160000\n",
       "Name: Amount, dtype: float64"
      ]
     },
     "execution_count": 13,
     "metadata": {},
     "output_type": "execute_result"
    }
   ],
   "source": [
    "df['Amount'].describe()"
   ]
  },
  {
   "cell_type": "markdown",
   "id": "919c137d-fdd0-465d-a5fc-ac82968c5491",
   "metadata": {},
   "source": [
    "# Train the models"
   ]
  },
  {
   "cell_type": "code",
   "execution_count": 15,
   "id": "f52c15ca-e5aa-49cc-aebc-a47a09379f56",
   "metadata": {},
   "outputs": [],
   "source": [
    "X = df.drop('Class', axis=1)\n",
    "y = df['Class']"
   ]
  },
  {
   "cell_type": "markdown",
   "id": "921d8cd8-c8ba-41cc-a57c-422469d9880a",
   "metadata": {},
   "source": [
    "Since we are dealing with imablanced datasets, which is very common in fradu detection task where the fraudulent cases are extremely rare (0.173% in our dataset), it is important to ensure that both training and testing sets contain a representative proportion of fraudulent cases. That allows the model to learn to recognize fraudulent patterns and evaluate its performance effectively.\n",
    "\n",
    "Therefore, here we apply stratified train-test split alongside a technique called Synthetic Minority Over-sampling Technique (SMOTE) to oversample the minority class in our dataset."
   ]
  },
  {
   "cell_type": "code",
   "execution_count": 60,
   "id": "613775d2-f4c5-48db-8459-eebc062ea215",
   "metadata": {},
   "outputs": [],
   "source": [
    "from sklearn.model_selection import train_test_split\n",
    "\n",
    "# Stratified split to maintain the ratio of classes in train and test sets\n",
    "X_train, X_test, y_train, y_test = train_test_split(X, y, test_size=0.2, stratify=y, random_state=42)"
   ]
  },
  {
   "cell_type": "code",
   "execution_count": 62,
   "id": "06e1b607-f44d-484d-a9c3-ef7adc9ec18d",
   "metadata": {},
   "outputs": [],
   "source": [
    "# Apply SMOTE to the training data\n",
    "smote = SMOTE(random_state=42)\n",
    "X_train_resampled, y_train_resampled = smote.fit_resample(X_train, y_train)"
   ]
  },
  {
   "cell_type": "code",
   "execution_count": 82,
   "id": "10fa4ea0-97f8-4e23-ace6-36f7d28d5d43",
   "metadata": {},
   "outputs": [
    {
     "name": "stdout",
     "output_type": "stream",
     "text": [
      "Logistic Regression:\n",
      "Accuracy: 0.9992\n",
      "Precision: 0.8312\n",
      "Recall: 0.6531\n",
      "F1 score: 0.7314\n",
      "Logistic Regression with resampled data:\n",
      "Accuracy: 0.9823\n",
      "Precision: 0.0823\n",
      "Recall: 0.9184\n",
      "F1 score: 0.1511\n"
     ]
    }
   ],
   "source": [
    "from sklearn.linear_model import LogisticRegression\n",
    "from sklearn.metrics import (\n",
    "    accuracy_score,\n",
    "    precision_score,\n",
    "    recall_score,\n",
    "    roc_auc_score,\n",
    "    f1_score\n",
    ")\n",
    "\n",
    "lr = LogisticRegression(max_iter=1000, random_state=42)\n",
    "lr.fit(X_train, y_train)\n",
    "y_pred_lr = lr.predict(X_test)\n",
    "\n",
    "print(\"Logistic Regression:\")\n",
    "print(f'Accuracy: {accuracy_score(y_test, y_pred_lr):.4f}')\n",
    "print(f'Precision: {precision_score(y_test, y_pred_lr):.4f}')\n",
    "print(f'Recall: {recall_score(y_test, y_pred_lr):.4f}')\n",
    "print(f'F1 score: {f1_score(y_test, y_pred_lr):.4f}')\n",
    "\n",
    "lr_smote = LogisticRegression(max_iter=1000, random_state=42)\n",
    "lr_smote.fit(X_train_resampled, y_train_resampled)\n",
    "\n",
    "y_pred_lr_smote = lr_smote.predict(X_test)\n",
    "print(\"Logistic Regression with resampled data:\")\n",
    "print(f'Accuracy: {accuracy_score(y_test, y_pred_lr_smote):.4f}')\n",
    "print(f'Precision: {precision_score(y_test, y_pred_lr_smote):.4f}')\n",
    "print(f'Recall: {recall_score(y_test, y_pred_lr_smote):.4f}')\n",
    "print(f'F1 score: {f1_score(y_test, y_pred_lr_smote):.4f}')"
   ]
  },
  {
   "cell_type": "markdown",
   "id": "d6934883-d5fc-4176-80ee-b59b75426b60",
   "metadata": {},
   "source": [
    "To evaluate the performance of LR in fraud detection, it involves understanding the trade-offs between different performance metrics and how they relate to your specific problem, especially in the context of imbalanced data.\n",
    "\n",
    "In the context of fraud detection, recall is often more critical than precision because missing a fraudulent transaction (false negative) can be more costly than investigating a legitimate transaction (false positive). Therefore, if the the cost of false positives (investigating non-fraudulent transactions) is manageable, the model trained with resampled data with higher recall might be preferred to ensure that most fraudulent transactions are detected."
   ]
  },
  {
   "cell_type": "markdown",
   "id": "3573fb2d-747b-4fcc-aa33-cbe28faa048f",
   "metadata": {},
   "source": [
    "In the following, we are going to test the performance of some other machine learning algorithms, which include the Gradient Boosting Machines (XGBoost), Neural Networks, and Anomaly Detection with Isolation Forest."
   ]
  },
  {
   "cell_type": "code",
   "execution_count": 90,
   "id": "c7e1ca7b-d35b-49e8-a608-1575a6023bcd",
   "metadata": {},
   "outputs": [
    {
     "name": "stdout",
     "output_type": "stream",
     "text": [
      "XGBoost:\n",
      "Accuracy: 0.9994\n",
      "Precision: 0.8019\n",
      "Recall: 0.8673\n",
      "F1 score: 0.8333\n"
     ]
    }
   ],
   "source": [
    "from xgboost import XGBClassifier\n",
    "from sklearn.metrics import classification_report, roc_auc_score\n",
    "\n",
    "# Initialize and train XGBoost\n",
    "xgb = XGBClassifier(use_label_encoder=False, eval_metric='logloss', random_state=42)\n",
    "xgb.fit(X_train_resampled, y_train_resampled)\n",
    "\n",
    "# Predictions and evaluation\n",
    "y_pred_xgb = xgb.predict(X_test)\n",
    "print(\"XGBoost:\")\n",
    "print(f'Accuracy: {accuracy_score(y_test, y_pred_xgb):.4f}')\n",
    "print(f'Precision: {precision_score(y_test, y_pred_xgb):.4f}')\n",
    "print(f'Recall: {recall_score(y_test, y_pred_xgb):.4f}')\n",
    "print(f'F1 score: {f1_score(y_test, y_pred_xgb):.4f}')"
   ]
  },
  {
   "cell_type": "code",
   "execution_count": 122,
   "id": "f86427b7-1182-4b44-8f9c-65c5da6d6549",
   "metadata": {
    "scrolled": true
   },
   "outputs": [
    {
     "name": "stdout",
     "output_type": "stream",
     "text": [
      "Epoch 1/10\n",
      "\u001b[1m11373/11373\u001b[0m \u001b[32m━━━━━━━━━━━━━━━━━━━━\u001b[0m\u001b[37m\u001b[0m \u001b[1m5s\u001b[0m 362us/step - loss: 0.1728 - recall_6: 0.9452 - val_loss: 0.3455 - val_recall_6: 0.9617\n",
      "Epoch 2/10\n",
      "\u001b[1m11373/11373\u001b[0m \u001b[32m━━━━━━━━━━━━━━━━━━━━\u001b[0m\u001b[37m\u001b[0m \u001b[1m4s\u001b[0m 354us/step - loss: 0.0294 - recall_6: 0.9904 - val_loss: 0.0096 - val_recall_6: 0.9988\n",
      "Epoch 3/10\n",
      "\u001b[1m11373/11373\u001b[0m \u001b[32m━━━━━━━━━━━━━━━━━━━━\u001b[0m\u001b[37m\u001b[0m \u001b[1m4s\u001b[0m 351us/step - loss: 0.0148 - recall_6: 0.9944 - val_loss: 0.0079 - val_recall_6: 0.9984\n",
      "Epoch 4/10\n",
      "\u001b[1m11373/11373\u001b[0m \u001b[32m━━━━━━━━━━━━━━━━━━━━\u001b[0m\u001b[37m\u001b[0m \u001b[1m4s\u001b[0m 357us/step - loss: 0.0124 - recall_6: 0.9954 - val_loss: 0.0078 - val_recall_6: 0.9982\n",
      "Epoch 5/10\n",
      "\u001b[1m11373/11373\u001b[0m \u001b[32m━━━━━━━━━━━━━━━━━━━━\u001b[0m\u001b[37m\u001b[0m \u001b[1m4s\u001b[0m 354us/step - loss: 0.0091 - recall_6: 0.9965 - val_loss: 0.0117 - val_recall_6: 0.9955\n",
      "Epoch 6/10\n",
      "\u001b[1m11373/11373\u001b[0m \u001b[32m━━━━━━━━━━━━━━━━━━━━\u001b[0m\u001b[37m\u001b[0m \u001b[1m4s\u001b[0m 349us/step - loss: 0.0081 - recall_6: 0.9969 - val_loss: 0.0079 - val_recall_6: 0.9976\n",
      "Epoch 7/10\n",
      "\u001b[1m11373/11373\u001b[0m \u001b[32m━━━━━━━━━━━━━━━━━━━━\u001b[0m\u001b[37m\u001b[0m \u001b[1m4s\u001b[0m 353us/step - loss: 0.0078 - recall_6: 0.9973 - val_loss: 0.0030 - val_recall_6: 0.9995\n",
      "Epoch 8/10\n",
      "\u001b[1m11373/11373\u001b[0m \u001b[32m━━━━━━━━━━━━━━━━━━━━\u001b[0m\u001b[37m\u001b[0m \u001b[1m4s\u001b[0m 354us/step - loss: 0.0066 - recall_6: 0.9978 - val_loss: 0.0023 - val_recall_6: 0.9996\n",
      "Epoch 9/10\n",
      "\u001b[1m11373/11373\u001b[0m \u001b[32m━━━━━━━━━━━━━━━━━━━━\u001b[0m\u001b[37m\u001b[0m \u001b[1m4s\u001b[0m 354us/step - loss: 0.0058 - recall_6: 0.9982 - val_loss: 0.0034 - val_recall_6: 0.9998\n",
      "Epoch 10/10\n",
      "\u001b[1m11373/11373\u001b[0m \u001b[32m━━━━━━━━━━━━━━━━━━━━\u001b[0m\u001b[37m\u001b[0m \u001b[1m4s\u001b[0m 355us/step - loss: 0.0056 - recall_6: 0.9983 - val_loss: 0.0083 - val_recall_6: 0.9975\n",
      "\u001b[1m1781/1781\u001b[0m \u001b[32m━━━━━━━━━━━━━━━━━━━━\u001b[0m\u001b[37m\u001b[0m \u001b[1m0s\u001b[0m 206us/step\n",
      "Neural Network:\n",
      "Accuracy: 0.9989\n",
      "Precision: 0.6250\n",
      "Recall: 0.8673\n",
      "F1 score: 0.7265\n"
     ]
    }
   ],
   "source": [
    "import tensorflow as tf\n",
    "from tensorflow.keras import Sequential\n",
    "from tensorflow.keras.layers import Dense\n",
    "from tensorflow.keras.optimizers import Adam\n",
    "from tensorflow.keras.metrics import Recall\n",
    "\n",
    "nn = Sequential([\n",
    "    Dense(units=64, activation='relu'),\n",
    "    Dense(units=32, activation='relu'),\n",
    "    Dense(units=1, activation='sigmoid')\n",
    "])\n",
    "\n",
    "nn.compile(optimizer=Adam(learning_rate=0.001),\n",
    "              loss='binary_crossentropy',\n",
    "              metrics=[Recall()])\n",
    "\n",
    "# Train the model\n",
    "nn.fit(X_train_resampled, y_train_resampled, \n",
    "                    validation_split=0.2, \n",
    "                    epochs=10, \n",
    "                    batch_size=32, \n",
    "                    verbose=1)\n",
    "\n",
    "# Predictions and evaluation\n",
    "y_pred_nn = (nn.predict(X_test) > 0.5).astype(int)\n",
    "print(\"Neural Network:\")\n",
    "print(f'Accuracy: {accuracy_score(y_test, y_pred_nn):.4f}')\n",
    "print(f'Precision: {precision_score(y_test, y_pred_nn):.4f}')\n",
    "print(f'Recall: {recall_score(y_test, y_pred_nn):.4f}')\n",
    "print(f'F1 score: {f1_score(y_test, y_pred_nn):.4f}')"
   ]
  },
  {
   "cell_type": "markdown",
   "id": "d0cb084e-1126-458b-82cb-1740d3b94302",
   "metadata": {},
   "source": [
    "# Conclusion"
   ]
  },
  {
   "cell_type": "markdown",
   "id": "1f7e747e-d7ad-47c1-8f50-a9d1e5b2e384",
   "metadata": {},
   "source": [
    "As a fast growing menace in finance industry, credit card fraud can be detected more effectively by adopting machine learning. In the application supervised learning algorithm in fraud detection, it is important to take the highly skewed datasets into consideration. The presence of significantly more genuine transactions than fraudulent ones (class imbalance) poses a challenge. Specialized techniques like resampling or using class weights are essential to balance the training process."
   ]
  }
 ],
 "metadata": {
  "kernelspec": {
   "display_name": "Python 3 (ipykernel)",
   "language": "python",
   "name": "python3"
  },
  "language_info": {
   "codemirror_mode": {
    "name": "ipython",
    "version": 3
   },
   "file_extension": ".py",
   "mimetype": "text/x-python",
   "name": "python",
   "nbconvert_exporter": "python",
   "pygments_lexer": "ipython3",
   "version": "3.11.7"
  }
 },
 "nbformat": 4,
 "nbformat_minor": 5
}
